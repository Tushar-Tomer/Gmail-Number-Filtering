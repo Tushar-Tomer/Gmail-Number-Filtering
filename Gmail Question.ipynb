{
 "cells": [
  {
   "cell_type": "markdown",
   "id": "9b1a779d",
   "metadata": {},
   "source": [
    "# Q- Find the phone number in the Gmail and make a new column , if number is 10 digits then print otherwise write mobile number is not found ?\n",
    "# 1. Karan@gmail.com1234678914\n",
    "# 2. Hritik8899124610@gmail.com\n",
    "# 3. Rishi2434khanna@gmail.com\n",
    "# 4. Dhruv9465723405@gmail.com"
   ]
  },
  {
   "cell_type": "code",
   "execution_count": 1,
   "id": "5f59866d",
   "metadata": {},
   "outputs": [],
   "source": [
    "import pandas as pd"
   ]
  },
  {
   "cell_type": "code",
   "execution_count": 2,
   "id": "6ce564dd",
   "metadata": {},
   "outputs": [],
   "source": [
    "l=[\"Karan@gmail.com1234678914\",\"Hritik8899124610@gmail.com\",\"Rishi2434khanna@gmail.com\",\"Dhruv9465723405@gmail.com\"]"
   ]
  },
  {
   "cell_type": "code",
   "execution_count": 3,
   "id": "6fcee0a2",
   "metadata": {},
   "outputs": [
    {
     "data": {
      "text/html": [
       "<div>\n",
       "<style scoped>\n",
       "    .dataframe tbody tr th:only-of-type {\n",
       "        vertical-align: middle;\n",
       "    }\n",
       "\n",
       "    .dataframe tbody tr th {\n",
       "        vertical-align: top;\n",
       "    }\n",
       "\n",
       "    .dataframe thead th {\n",
       "        text-align: right;\n",
       "    }\n",
       "</style>\n",
       "<table border=\"1\" class=\"dataframe\">\n",
       "  <thead>\n",
       "    <tr style=\"text-align: right;\">\n",
       "      <th></th>\n",
       "      <th>Gmail ID</th>\n",
       "    </tr>\n",
       "  </thead>\n",
       "  <tbody>\n",
       "    <tr>\n",
       "      <th>0</th>\n",
       "      <td>Karan@gmail.com1234678914</td>\n",
       "    </tr>\n",
       "    <tr>\n",
       "      <th>1</th>\n",
       "      <td>Hritik8899124610@gmail.com</td>\n",
       "    </tr>\n",
       "    <tr>\n",
       "      <th>2</th>\n",
       "      <td>Rishi2434khanna@gmail.com</td>\n",
       "    </tr>\n",
       "    <tr>\n",
       "      <th>3</th>\n",
       "      <td>Dhruv9465723405@gmail.com</td>\n",
       "    </tr>\n",
       "  </tbody>\n",
       "</table>\n",
       "</div>"
      ],
      "text/plain": [
       "                     Gmail ID\n",
       "0   Karan@gmail.com1234678914\n",
       "1  Hritik8899124610@gmail.com\n",
       "2   Rishi2434khanna@gmail.com\n",
       "3   Dhruv9465723405@gmail.com"
      ]
     },
     "execution_count": 3,
     "metadata": {},
     "output_type": "execute_result"
    }
   ],
   "source": [
    "a=pd.DataFrame({\"Gmail ID\":l})\n",
    "a"
   ]
  },
  {
   "cell_type": "code",
   "execution_count": 4,
   "id": "a57aa3ad",
   "metadata": {},
   "outputs": [],
   "source": [
    "x=[]\n",
    "for i in a[\"Gmail ID\"]:\n",
    "    for j in i:\n",
    "        if j.isdecimal():\n",
    "            x.append(j)\n",
    "    x.append(\":\")"
   ]
  },
  {
   "cell_type": "code",
   "execution_count": 5,
   "id": "a289cb52",
   "metadata": {},
   "outputs": [
    {
     "data": {
      "text/plain": [
       "['1',\n",
       " '2',\n",
       " '3',\n",
       " '4',\n",
       " '6',\n",
       " '7',\n",
       " '8',\n",
       " '9',\n",
       " '1',\n",
       " '4',\n",
       " ':',\n",
       " '8',\n",
       " '8',\n",
       " '9',\n",
       " '9',\n",
       " '1',\n",
       " '2',\n",
       " '4',\n",
       " '6',\n",
       " '1',\n",
       " '0',\n",
       " ':',\n",
       " '2',\n",
       " '4',\n",
       " '3',\n",
       " '4',\n",
       " ':',\n",
       " '9',\n",
       " '4',\n",
       " '6',\n",
       " '5',\n",
       " '7',\n",
       " '2',\n",
       " '3',\n",
       " '4',\n",
       " '0',\n",
       " '5',\n",
       " ':']"
      ]
     },
     "execution_count": 5,
     "metadata": {},
     "output_type": "execute_result"
    }
   ],
   "source": [
    "x"
   ]
  },
  {
   "cell_type": "code",
   "execution_count": 6,
   "id": "f97c89da",
   "metadata": {},
   "outputs": [
    {
     "data": {
      "text/plain": [
       "'1234678914:8899124610:2434:9465723405:'"
      ]
     },
     "execution_count": 6,
     "metadata": {},
     "output_type": "execute_result"
    }
   ],
   "source": [
    "z=\"\".join(x)\n",
    "z"
   ]
  },
  {
   "cell_type": "code",
   "execution_count": 7,
   "id": "3b147f58",
   "metadata": {},
   "outputs": [
    {
     "data": {
      "text/plain": [
       "['1234678914', '8899124610', '2434', '9465723405', '']"
      ]
     },
     "execution_count": 7,
     "metadata": {},
     "output_type": "execute_result"
    }
   ],
   "source": [
    "p=z.split(\":\")\n",
    "p"
   ]
  },
  {
   "cell_type": "code",
   "execution_count": 8,
   "id": "af438132",
   "metadata": {},
   "outputs": [],
   "source": [
    "y=[]\n",
    "for i in p:\n",
    "    if i.isdecimal():\n",
    "        y.append(i)"
   ]
  },
  {
   "cell_type": "code",
   "execution_count": 9,
   "id": "7b4107e5",
   "metadata": {},
   "outputs": [
    {
     "data": {
      "text/plain": [
       "['1234678914', '8899124610', '2434', '9465723405']"
      ]
     },
     "execution_count": 9,
     "metadata": {},
     "output_type": "execute_result"
    }
   ],
   "source": [
    "y"
   ]
  },
  {
   "cell_type": "code",
   "execution_count": 10,
   "id": "40a5ce7f",
   "metadata": {},
   "outputs": [],
   "source": [
    "s=[]\n",
    "for i in y:\n",
    "    if len(i)==10:\n",
    "        s.append(i)\n",
    "    else:\n",
    "        s.append(\"Mobile no. not found\")"
   ]
  },
  {
   "cell_type": "code",
   "execution_count": 11,
   "id": "cc8c526a",
   "metadata": {},
   "outputs": [
    {
     "data": {
      "text/plain": [
       "['1234678914', '8899124610', 'Mobile no. not found', '9465723405']"
      ]
     },
     "execution_count": 11,
     "metadata": {},
     "output_type": "execute_result"
    }
   ],
   "source": [
    "s"
   ]
  },
  {
   "cell_type": "code",
   "execution_count": 12,
   "id": "d98f8e4b",
   "metadata": {},
   "outputs": [],
   "source": [
    "a[\"Phone Number\"]=s"
   ]
  },
  {
   "cell_type": "code",
   "execution_count": 13,
   "id": "478e5c8c",
   "metadata": {},
   "outputs": [
    {
     "data": {
      "text/html": [
       "<div>\n",
       "<style scoped>\n",
       "    .dataframe tbody tr th:only-of-type {\n",
       "        vertical-align: middle;\n",
       "    }\n",
       "\n",
       "    .dataframe tbody tr th {\n",
       "        vertical-align: top;\n",
       "    }\n",
       "\n",
       "    .dataframe thead th {\n",
       "        text-align: right;\n",
       "    }\n",
       "</style>\n",
       "<table border=\"1\" class=\"dataframe\">\n",
       "  <thead>\n",
       "    <tr style=\"text-align: right;\">\n",
       "      <th></th>\n",
       "      <th>Gmail ID</th>\n",
       "      <th>Phone Number</th>\n",
       "    </tr>\n",
       "  </thead>\n",
       "  <tbody>\n",
       "    <tr>\n",
       "      <th>0</th>\n",
       "      <td>Karan@gmail.com1234678914</td>\n",
       "      <td>1234678914</td>\n",
       "    </tr>\n",
       "    <tr>\n",
       "      <th>1</th>\n",
       "      <td>Hritik8899124610@gmail.com</td>\n",
       "      <td>8899124610</td>\n",
       "    </tr>\n",
       "    <tr>\n",
       "      <th>2</th>\n",
       "      <td>Rishi2434khanna@gmail.com</td>\n",
       "      <td>Mobile no. not found</td>\n",
       "    </tr>\n",
       "    <tr>\n",
       "      <th>3</th>\n",
       "      <td>Dhruv9465723405@gmail.com</td>\n",
       "      <td>9465723405</td>\n",
       "    </tr>\n",
       "  </tbody>\n",
       "</table>\n",
       "</div>"
      ],
      "text/plain": [
       "                     Gmail ID          Phone Number\n",
       "0   Karan@gmail.com1234678914            1234678914\n",
       "1  Hritik8899124610@gmail.com            8899124610\n",
       "2   Rishi2434khanna@gmail.com  Mobile no. not found\n",
       "3   Dhruv9465723405@gmail.com            9465723405"
      ]
     },
     "execution_count": 13,
     "metadata": {},
     "output_type": "execute_result"
    }
   ],
   "source": [
    "a"
   ]
  },
  {
   "cell_type": "code",
   "execution_count": null,
   "id": "13c201a7",
   "metadata": {},
   "outputs": [],
   "source": []
  },
  {
   "cell_type": "code",
   "execution_count": null,
   "id": "04634589",
   "metadata": {},
   "outputs": [],
   "source": []
  }
 ],
 "metadata": {
  "kernelspec": {
   "display_name": "Python 3 (ipykernel)",
   "language": "python",
   "name": "python3"
  },
  "language_info": {
   "codemirror_mode": {
    "name": "ipython",
    "version": 3
   },
   "file_extension": ".py",
   "mimetype": "text/x-python",
   "name": "python",
   "nbconvert_exporter": "python",
   "pygments_lexer": "ipython3",
   "version": "3.9.12"
  }
 },
 "nbformat": 4,
 "nbformat_minor": 5
}
