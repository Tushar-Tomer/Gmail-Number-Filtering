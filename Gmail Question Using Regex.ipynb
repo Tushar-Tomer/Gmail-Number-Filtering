{
 "cells": [
  {
   "cell_type": "markdown",
   "id": "60c9f0d0",
   "metadata": {},
   "source": [
    "# Q- Find the phone number in the Gmail and make a new column , if number is 10 digits then print otherwise write mobile number is not found ?\n",
    "# 1. Karan@gmail.com1234678914\n",
    "# 2. Hritik8899124610@gmail.com\n",
    "# 3. Rishi2434khanna@gmail.com\n",
    "# 4. Dhruv9465723405@gmail.com"
   ]
  },
  {
   "cell_type": "code",
   "execution_count": 1,
   "id": "c3436537",
   "metadata": {},
   "outputs": [],
   "source": [
    "import pandas as pd\n",
    "import re"
   ]
  },
  {
   "cell_type": "code",
   "execution_count": 2,
   "id": "0448aa48",
   "metadata": {},
   "outputs": [],
   "source": [
    "l=[\"Karan@gmail.com1234678914\",\"Hritik8899124610@gmail.com\",\"Rishi2434khanna@gmail.com\",\"Dhruv9465723405@gmail.com\"]"
   ]
  },
  {
   "cell_type": "code",
   "execution_count": 3,
   "id": "c7715187",
   "metadata": {},
   "outputs": [
    {
     "data": {
      "text/html": [
       "<div>\n",
       "<style scoped>\n",
       "    .dataframe tbody tr th:only-of-type {\n",
       "        vertical-align: middle;\n",
       "    }\n",
       "\n",
       "    .dataframe tbody tr th {\n",
       "        vertical-align: top;\n",
       "    }\n",
       "\n",
       "    .dataframe thead th {\n",
       "        text-align: right;\n",
       "    }\n",
       "</style>\n",
       "<table border=\"1\" class=\"dataframe\">\n",
       "  <thead>\n",
       "    <tr style=\"text-align: right;\">\n",
       "      <th></th>\n",
       "      <th>Gmail</th>\n",
       "    </tr>\n",
       "  </thead>\n",
       "  <tbody>\n",
       "    <tr>\n",
       "      <th>0</th>\n",
       "      <td>Karan@gmail.com1234678914</td>\n",
       "    </tr>\n",
       "    <tr>\n",
       "      <th>1</th>\n",
       "      <td>Hritik8899124610@gmail.com</td>\n",
       "    </tr>\n",
       "    <tr>\n",
       "      <th>2</th>\n",
       "      <td>Rishi2434khanna@gmail.com</td>\n",
       "    </tr>\n",
       "    <tr>\n",
       "      <th>3</th>\n",
       "      <td>Dhruv9465723405@gmail.com</td>\n",
       "    </tr>\n",
       "  </tbody>\n",
       "</table>\n",
       "</div>"
      ],
      "text/plain": [
       "                        Gmail\n",
       "0   Karan@gmail.com1234678914\n",
       "1  Hritik8899124610@gmail.com\n",
       "2   Rishi2434khanna@gmail.com\n",
       "3   Dhruv9465723405@gmail.com"
      ]
     },
     "execution_count": 3,
     "metadata": {},
     "output_type": "execute_result"
    }
   ],
   "source": [
    "df=pd.DataFrame({\"Gmail\":l})\n",
    "df"
   ]
  },
  {
   "cell_type": "code",
   "execution_count": 4,
   "id": "3c6a4605",
   "metadata": {},
   "outputs": [
    {
     "data": {
      "text/plain": [
       "['1234678914', '8899124610', 'Mobile no. not found', '9465723405']"
      ]
     },
     "execution_count": 4,
     "metadata": {},
     "output_type": "execute_result"
    }
   ],
   "source": [
    "s=[]\n",
    "for i in df[\"Gmail\"]:\n",
    "    a=re.findall(\"\\d\",i)\n",
    "    b=\"\".join(a)\n",
    "    if len(b)==10:\n",
    "        s.append(b)\n",
    "    else:\n",
    "        s.append(\"Mobile no. not found\")\n",
    "s"
   ]
  },
  {
   "cell_type": "code",
   "execution_count": 5,
   "id": "1150df6e",
   "metadata": {},
   "outputs": [
    {
     "data": {
      "text/html": [
       "<div>\n",
       "<style scoped>\n",
       "    .dataframe tbody tr th:only-of-type {\n",
       "        vertical-align: middle;\n",
       "    }\n",
       "\n",
       "    .dataframe tbody tr th {\n",
       "        vertical-align: top;\n",
       "    }\n",
       "\n",
       "    .dataframe thead th {\n",
       "        text-align: right;\n",
       "    }\n",
       "</style>\n",
       "<table border=\"1\" class=\"dataframe\">\n",
       "  <thead>\n",
       "    <tr style=\"text-align: right;\">\n",
       "      <th></th>\n",
       "      <th>Gmail</th>\n",
       "      <th>Phone Number</th>\n",
       "    </tr>\n",
       "  </thead>\n",
       "  <tbody>\n",
       "    <tr>\n",
       "      <th>0</th>\n",
       "      <td>Karan@gmail.com1234678914</td>\n",
       "      <td>1234678914</td>\n",
       "    </tr>\n",
       "    <tr>\n",
       "      <th>1</th>\n",
       "      <td>Hritik8899124610@gmail.com</td>\n",
       "      <td>8899124610</td>\n",
       "    </tr>\n",
       "    <tr>\n",
       "      <th>2</th>\n",
       "      <td>Rishi2434khanna@gmail.com</td>\n",
       "      <td>Mobile no. not found</td>\n",
       "    </tr>\n",
       "    <tr>\n",
       "      <th>3</th>\n",
       "      <td>Dhruv9465723405@gmail.com</td>\n",
       "      <td>9465723405</td>\n",
       "    </tr>\n",
       "  </tbody>\n",
       "</table>\n",
       "</div>"
      ],
      "text/plain": [
       "                        Gmail          Phone Number\n",
       "0   Karan@gmail.com1234678914            1234678914\n",
       "1  Hritik8899124610@gmail.com            8899124610\n",
       "2   Rishi2434khanna@gmail.com  Mobile no. not found\n",
       "3   Dhruv9465723405@gmail.com            9465723405"
      ]
     },
     "execution_count": 5,
     "metadata": {},
     "output_type": "execute_result"
    }
   ],
   "source": [
    "df[\"Phone Number\"]=s\n",
    "df"
   ]
  }
 ],
 "metadata": {
  "kernelspec": {
   "display_name": "Python 3 (ipykernel)",
   "language": "python",
   "name": "python3"
  },
  "language_info": {
   "codemirror_mode": {
    "name": "ipython",
    "version": 3
   },
   "file_extension": ".py",
   "mimetype": "text/x-python",
   "name": "python",
   "nbconvert_exporter": "python",
   "pygments_lexer": "ipython3",
   "version": "3.9.12"
  }
 },
 "nbformat": 4,
 "nbformat_minor": 5
}
